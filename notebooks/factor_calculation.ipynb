{
 "cells": [
  {
   "cell_type": "code",
   "execution_count": 3,
   "id": "initial_id",
   "metadata": {
    "collapsed": true,
    "ExecuteTime": {
     "end_time": "2025-06-27T08:03:06.904784Z",
     "start_time": "2025-06-27T08:03:06.845134Z"
    }
   },
   "outputs": [
    {
     "name": "stdout",
     "output_type": "stream",
     "text": [
      "         Date     Close      High       Low      Open   Volume  Log_Return\n",
      "0  2024-01-01  0.003734  0.003809  0.003549  0.003678  9169185         NaN\n",
      "1  2024-01-02  0.003706  0.003780  0.003660  0.003734  6344244   -0.007527\n",
      "2  2024-01-03  0.003374  0.003740  0.003322  0.003705  8036622   -0.093854\n",
      "3  2024-01-04  0.003450  0.003458  0.003327  0.003375  5588532    0.022275\n",
      "4  2024-01-05  0.003270  0.003451  0.003206  0.003449  6058802   -0.053584\n"
     ]
    }
   ],
   "source": [
    "import os\n",
    "from src import config\n",
    "import pandas as pd\n",
    "\n",
    "folder_path = config.YAHOO_DATA_DIR\n",
    "all_files = [f for f in os.listdir(folder_path) if f.endswith('.csv')]\n",
    "\n",
    "\n",
    "test_data = pd.read_csv(os.path.join(folder_path, all_files[0]))\n",
    "print(test_data.head())\n"
   ]
  },
  {
   "cell_type": "code",
   "execution_count": 4,
   "outputs": [
    {
     "name": "stdout",
     "output_type": "stream",
     "text": [
      "         Date     Close      High       Low      Open   Volume  Log_Return\n",
      "0  2024-01-01  0.003734  0.003809  0.003549  0.003678  9169185         NaN\n",
      "1  2024-01-02  0.003706  0.003780  0.003660  0.003734  6344244   -0.007527\n",
      "2  2024-01-03  0.003374  0.003740  0.003322  0.003705  8036622   -0.093854\n",
      "3  2024-01-04  0.003450  0.003458  0.003327  0.003375  5588532    0.022275\n",
      "4  2024-01-05  0.003270  0.003451  0.003206  0.003449  6058802   -0.053584\n"
     ]
    }
   ],
   "source": [
    "test_data = test_data.iloc[:-2]\n",
    "print(test_data.head())"
   ],
   "metadata": {
    "collapsed": false,
    "ExecuteTime": {
     "end_time": "2025-06-27T08:03:11.772922Z",
     "start_time": "2025-06-27T08:03:11.768805Z"
    }
   },
   "id": "f4258f82737a3adf"
  },
  {
   "cell_type": "code",
   "execution_count": null,
   "outputs": [],
   "source": [
    "for file in all_files:\n",
    "    try:\n",
    "        data = pd.read_csv(os.path.join(folder_path, file))\n",
    "        # Remove the last two row which is often incomplete\n",
    "        if not data.empty:\n",
    "            data = data.iloc[:-2]\n",
    "            data.to_csv(os.path.join(folder_path, file))\n",
    "    except Exception as e:\n",
    "        print(f\"Could not process file {file}: {e}\")"
   ],
   "metadata": {
    "collapsed": false
   },
   "id": "191b0a6e4b10b7d5"
  },
  {
   "cell_type": "code",
   "execution_count": 5,
   "outputs": [
    {
     "name": "stderr",
     "output_type": "stream",
     "text": [
      "/Users/zacharyvonc/Documents/UCLA/MASDS Thesis/PCA_Index/venv/lib/python3.9/site-packages/urllib3/__init__.py:35: NotOpenSSLWarning: urllib3 v2 only supports OpenSSL 1.1.1+, currently the 'ssl' module is compiled with 'LibreSSL 2.8.3'. See: https://github.com/urllib3/urllib3/issues/3020\n",
      "  warnings.warn(\n"
     ]
    },
    {
     "name": "stdout",
     "output_type": "stream",
     "text": [
      "[]\n"
     ]
    }
   ],
   "source": [
    "import requests\n",
    "import pandas as pd\n",
    "\n",
    "def check_ticker(coin_id):\n",
    "    url = f\"https://finance.yahoo.com/quote/{coin_id.upper()}-USD\"\n",
    "    return requests.get(url).status_code == 200\n",
    "\n",
    "df = pd.read_csv(config.GECKO_TICKERS_FILE)  # column: 'id'\n",
    "mapped, unmapped = [], []\n",
    "\n",
    "for coin in df[\"coin_id\"]:\n",
    "    ticker = f\"{coin.upper()}-USD\"\n",
    "    if check_ticker(coin):\n",
    "        mapped.append({\"coin_id\": coin, \"yahoo_ticker\": ticker})\n",
    "    else:\n",
    "        unmapped.append(coin)\n",
    "\n",
    "# pd.DataFrame(mapped).to_csv(\"mapped.csv\", index=False)\n",
    "# pd.DataFrame(unmapped, columns=[\"coin_id\"]).to_csv(\"unmapped.csv\", index=False)\n",
    "print(mapped)"
   ],
   "metadata": {
    "collapsed": false,
    "ExecuteTime": {
     "end_time": "2025-06-27T08:25:48.857213Z",
     "start_time": "2025-06-27T08:24:10.254753Z"
    }
   },
   "id": "be880dce32474135"
  },
  {
   "cell_type": "code",
   "execution_count": 10,
   "outputs": [],
   "source": [
    "import requests\n",
    "import pandas as pd\n",
    "from datetime import datetime\n",
    "\n",
    "def get_ohlcv_history(coin_id, days='365'):\n",
    "    \"\"\"\n",
    "    Fetches historical OHLCV (Open, High, Low, Close, Volume) data for a given coin from CoinGecko.\n",
    "    The 'days' parameter can be an integer (e.g., '30', '90', '365') or 'max'.\n",
    "    \"\"\"\n",
    "    url = f\"https://api.coingecko.com/api/v3/coins/{coin_id}/market_chart\"\n",
    "    params = {\n",
    "        'vs_currency': 'usd',\n",
    "        'days': days,\n",
    "        'interval': 'daily'\n",
    "    }\n",
    "    \n",
    "    try:\n",
    "        response = requests.get(url, params=params)\n",
    "        response.raise_for_status()\n",
    "        data = response.json()\n",
    "\n",
    "        # Extract prices and volume\n",
    "        prices = data.get('prices', [])\n",
    "        total_volumes = data.get('total_volumes', [])\n",
    "\n",
    "        if not prices or not total_volumes:\n",
    "            return None\n",
    "\n",
    "        # Build base DataFrame\n",
    "        df = pd.DataFrame({\n",
    "            'date': pd.to_datetime([p[0] for p in prices], unit='ms').normalize(),\n",
    "            'close': [p[1] for p in prices],\n",
    "            'volume': [v[1] for v in total_volumes]\n",
    "        })\n",
    "\n",
    "        # Sort by date just in case\n",
    "        df = df.sort_values('date').reset_index(drop=True)\n",
    "\n",
    "        df['coin_id'] = coin_id\n",
    "\n",
    "        # Remove today's partial data if present\n",
    "        if df['date'].iloc[-1].date() == datetime.utcnow().date():\n",
    "            df = df.iloc[:-1]\n",
    "\n",
    "        return df[['date', 'coin_id', 'close', 'volume']]\n",
    "\n",
    "    except Exception as e:\n",
    "        print(f\"Error fetching data for {coin_id}: {e}\")\n",
    "        return None"
   ],
   "metadata": {
    "collapsed": false,
    "ExecuteTime": {
     "end_time": "2025-06-27T08:56:43.762929Z",
     "start_time": "2025-06-27T08:56:43.761827Z"
    }
   },
   "id": "799df9abc283597d"
  },
  {
   "cell_type": "code",
   "execution_count": 11,
   "outputs": [
    {
     "name": "stdout",
     "output_type": "stream",
     "text": [
      "        date  coin_id         close        volume\n",
      "0 2024-06-28  bitcoin  61562.645326  1.885514e+10\n",
      "1 2024-06-29  bitcoin  60317.096979  2.439942e+10\n",
      "2 2024-06-30  bitcoin  60864.443162  1.143511e+10\n",
      "3 2024-07-01  bitcoin  62734.393839  1.737359e+10\n",
      "4 2024-07-02  bitcoin  62819.822269  2.557307e+10\n"
     ]
    }
   ],
   "source": [
    "test_data = get_ohlcv_history('bitcoin')\n",
    "print(test_data.head())"
   ],
   "metadata": {
    "collapsed": false,
    "ExecuteTime": {
     "end_time": "2025-06-27T08:56:45.941144Z",
     "start_time": "2025-06-27T08:56:45.722674Z"
    }
   },
   "id": "9c3b400365af9846"
  },
  {
   "cell_type": "code",
   "execution_count": 16,
   "outputs": [],
   "source": [
    "import pandas_datareader.data as web\n",
    "\n",
    "def get_risk_free_rate(start_date, end_date):\n",
    "    \"\"\"\n",
    "    Fetches the 3-Month Treasury Bill Rate from FRED as the risk-free rate.\n",
    "    \"\"\"\n",
    "    print(\"Fetching risk-free rate from FRED...\")\n",
    "    try:\n",
    "        # The series for 3-Month Treasury Bill Secondary Market Rate\n",
    "        rf = web.DataReader('DTB3', 'fred', start_date, end_date)\n",
    "        # Forward-fill missing values and convert to daily rate\n",
    "        rf = rf.ffill() / 100 / 360\n",
    "        return rf\n",
    "    except Exception as e:\n",
    "        print(f\"Could not fetch risk-free rate: {e}. Returning zero series.\")\n",
    "        return pd.Series(0, index=pd.date_range(start=start_date, end=end_date), name='DTB3')"
   ],
   "metadata": {
    "collapsed": false,
    "ExecuteTime": {
     "end_time": "2025-06-27T21:14:14.875829Z",
     "start_time": "2025-06-27T21:14:14.744537Z"
    }
   },
   "id": "dc4dfd4b29633fff"
  },
  {
   "cell_type": "markdown",
   "source": [],
   "metadata": {
    "collapsed": false
   },
   "id": "7e343aaeece6787a"
  },
  {
   "cell_type": "code",
   "execution_count": 14,
   "outputs": [
    {
     "name": "stdout",
     "output_type": "stream",
     "text": [
      "                  Value  log_return\n",
      "Date                               \n",
      "2024-05-28  1000.000000         NaN\n",
      "2024-05-29   988.448863   -0.011618\n",
      "2024-05-30   974.915221   -0.013786\n",
      "2024-05-31   977.997462    0.003157\n",
      "2024-06-01   972.938874   -0.005186\n"
     ]
    }
   ],
   "source": [
    "import numpy as np\n",
    "\n",
    "pca_index_data = pd.read_csv(config.INDEX_FILE_PATH, index_col='Date', parse_dates=True)\n",
    "pca_index_data['log_return'] = np.log(pca_index_data['Value'] / pca_index_data['Value'].shift(1))\n",
    "print(pca_index_data.head())"
   ],
   "metadata": {
    "collapsed": false,
    "ExecuteTime": {
     "end_time": "2025-06-27T21:11:20.530136Z",
     "start_time": "2025-06-27T21:11:20.510454Z"
    }
   },
   "id": "6e6c8bf5ec68600b"
  },
  {
   "cell_type": "code",
   "execution_count": 57,
   "outputs": [
    {
     "name": "stdout",
     "output_type": "stream",
     "text": [
      "Fetching risk-free rate from FRED...\n",
      "2024-05-28 00:00:00\n",
      "                DTB3\n",
      "DATE                \n",
      "2024-05-28  0.000146\n",
      "2024-05-29  0.000146\n",
      "2024-05-30  0.000146\n",
      "2024-05-31  0.000146\n",
      "2024-06-03  0.000146\n",
      "Date\n",
      "2024-05-28    0.000146\n",
      "2024-05-29    0.000146\n",
      "2024-05-30    0.000146\n",
      "2024-05-31    0.000146\n",
      "2024-06-01    0.000146\n",
      "Name: DTB3, dtype: float64\n",
      "Date\n",
      "2024-05-28         NaN\n",
      "2024-05-29   -0.011764\n",
      "2024-05-30   -0.013933\n",
      "2024-05-31    0.003011\n",
      "2024-06-01   -0.005332\n",
      "dtype: float64\n"
     ]
    }
   ],
   "source": [
    "rf_rate = get_risk_free_rate(pca_index_data.index.min(), pca_index_data.index.max())\n",
    "print(pca_index_data.index.min())\n",
    "print(rf_rate.head())\n",
    "# Align risk-free rate with our data's dates\n",
    "rf = rf_rate['DTB3'].reindex(pca_index_data.index, method='ffill')\n",
    "print(rf.head())\n",
    "# Market return is the equal-weighted average of all crypto returns\n",
    "market_return = pca_index_data['log_return']\n",
    "mkt = market_return - rf\n",
    "print(mkt.head())\n"
   ],
   "metadata": {
    "collapsed": false,
    "ExecuteTime": {
     "end_time": "2025-06-28T07:51:50.050229Z",
     "start_time": "2025-06-28T07:51:49.836732Z"
    }
   },
   "id": "d80a626d673538e4"
  },
  {
   "cell_type": "code",
   "execution_count": 58,
   "outputs": [],
   "source": [
    "daily_return_data = pd.read_csv(config.DAILY_RETURN_FILE_PATH, index_col='Date', parse_dates=True)\n",
    "market_cap_data = pd.read_csv(config.MARKET_CAP_FILE_PATH, index_col='Date', parse_dates=True)"
   ],
   "metadata": {
    "collapsed": false,
    "ExecuteTime": {
     "end_time": "2025-06-28T07:55:19.524107Z",
     "start_time": "2025-06-28T07:55:19.362905Z"
    }
   },
   "id": "f6e54a160b7f173"
  },
  {
   "cell_type": "code",
   "execution_count": 23,
   "outputs": [
    {
     "name": "stdout",
     "output_type": "stream",
     "text": [
      "goldfinch                2.663202e+08\n",
      "tars-protocol            1.751760e+07\n",
      "chain-key-bitcoin        1.752771e+07\n",
      "civic                    1.328616e+08\n",
      "dkargo                   1.106146e+08\n",
      "                             ...     \n",
      "ethereum-name-service    7.903534e+08\n",
      "kishu-inu                2.872678e+07\n",
      "truefi                   2.068764e+08\n",
      "energy-web-token         1.710840e+08\n",
      "bitmart-token            1.202714e+08\n",
      "Name: 2024-05-28 00:00:00, Length: 772, dtype: float64\n"
     ]
    }
   ],
   "source": [
    "mcaps_today = market_cap_data.loc['2024-05-28'].dropna()\n",
    "mcaps_today = mcaps_today[mcaps_today > 0]\n",
    "print(mcaps_today)"
   ],
   "metadata": {
    "collapsed": false,
    "ExecuteTime": {
     "end_time": "2025-06-27T21:31:02.226653Z",
     "start_time": "2025-06-27T21:31:02.216055Z"
    }
   },
   "id": "85efa8fe5364299a"
  },
  {
   "cell_type": "code",
   "execution_count": 28,
   "outputs": [
    {
     "name": "stdout",
     "output_type": "stream",
     "text": [
      "772\n"
     ]
    }
   ],
   "source": [
    "print(mcaps_today.shape[0])"
   ],
   "metadata": {
    "collapsed": false,
    "ExecuteTime": {
     "end_time": "2025-06-27T21:34:02.066606Z",
     "start_time": "2025-06-27T21:34:02.064840Z"
    }
   },
   "id": "205192d1b5301c6"
  },
  {
   "cell_type": "code",
   "execution_count": 59,
   "outputs": [
    {
     "ename": "KeyError",
     "evalue": "'2024-05-28'",
     "output_type": "error",
     "traceback": [
      "\u001B[0;31m---------------------------------------------------------------------------\u001B[0m",
      "\u001B[0;31mKeyError\u001B[0m                                  Traceback (most recent call last)",
      "File \u001B[0;32mpandas/_libs/index.pyx:627\u001B[0m, in \u001B[0;36mpandas._libs.index.DatetimeEngine.get_loc\u001B[0;34m()\u001B[0m\n",
      "File \u001B[0;32mpandas/_libs/hashtable_class_helper.pxi:2606\u001B[0m, in \u001B[0;36mpandas._libs.hashtable.Int64HashTable.get_item\u001B[0;34m()\u001B[0m\n",
      "File \u001B[0;32mpandas/_libs/hashtable_class_helper.pxi:2630\u001B[0m, in \u001B[0;36mpandas._libs.hashtable.Int64HashTable.get_item\u001B[0;34m()\u001B[0m\n",
      "\u001B[0;31mKeyError\u001B[0m: 1716854400000000000",
      "\nDuring handling of the above exception, another exception occurred:\n",
      "\u001B[0;31mKeyError\u001B[0m                                  Traceback (most recent call last)",
      "File \u001B[0;32m~/Documents/UCLA/MASDS Thesis/PCA_Index/venv/lib/python3.9/site-packages/pandas/core/indexes/base.py:3812\u001B[0m, in \u001B[0;36mIndex.get_loc\u001B[0;34m(self, key)\u001B[0m\n\u001B[1;32m   3811\u001B[0m \u001B[38;5;28;01mtry\u001B[39;00m:\n\u001B[0;32m-> 3812\u001B[0m     \u001B[38;5;28;01mreturn\u001B[39;00m \u001B[38;5;28;43mself\u001B[39;49m\u001B[38;5;241;43m.\u001B[39;49m\u001B[43m_engine\u001B[49m\u001B[38;5;241;43m.\u001B[39;49m\u001B[43mget_loc\u001B[49m\u001B[43m(\u001B[49m\u001B[43mcasted_key\u001B[49m\u001B[43m)\u001B[49m\n\u001B[1;32m   3813\u001B[0m \u001B[38;5;28;01mexcept\u001B[39;00m \u001B[38;5;167;01mKeyError\u001B[39;00m \u001B[38;5;28;01mas\u001B[39;00m err:\n",
      "File \u001B[0;32mpandas/_libs/index.pyx:595\u001B[0m, in \u001B[0;36mpandas._libs.index.DatetimeEngine.get_loc\u001B[0;34m()\u001B[0m\n",
      "File \u001B[0;32mpandas/_libs/index.pyx:629\u001B[0m, in \u001B[0;36mpandas._libs.index.DatetimeEngine.get_loc\u001B[0;34m()\u001B[0m\n",
      "\u001B[0;31mKeyError\u001B[0m: Timestamp('2024-05-28 00:00:00')",
      "\nThe above exception was the direct cause of the following exception:\n",
      "\u001B[0;31mKeyError\u001B[0m                                  Traceback (most recent call last)",
      "File \u001B[0;32m~/Documents/UCLA/MASDS Thesis/PCA_Index/venv/lib/python3.9/site-packages/pandas/core/indexes/datetimes.py:630\u001B[0m, in \u001B[0;36mDatetimeIndex.get_loc\u001B[0;34m(self, key)\u001B[0m\n\u001B[1;32m    629\u001B[0m \u001B[38;5;28;01mtry\u001B[39;00m:\n\u001B[0;32m--> 630\u001B[0m     \u001B[38;5;28;01mreturn\u001B[39;00m \u001B[43mIndex\u001B[49m\u001B[38;5;241;43m.\u001B[39;49m\u001B[43mget_loc\u001B[49m\u001B[43m(\u001B[49m\u001B[38;5;28;43mself\u001B[39;49m\u001B[43m,\u001B[49m\u001B[43m \u001B[49m\u001B[43mkey\u001B[49m\u001B[43m)\u001B[49m\n\u001B[1;32m    631\u001B[0m \u001B[38;5;28;01mexcept\u001B[39;00m \u001B[38;5;167;01mKeyError\u001B[39;00m \u001B[38;5;28;01mas\u001B[39;00m err:\n",
      "File \u001B[0;32m~/Documents/UCLA/MASDS Thesis/PCA_Index/venv/lib/python3.9/site-packages/pandas/core/indexes/base.py:3819\u001B[0m, in \u001B[0;36mIndex.get_loc\u001B[0;34m(self, key)\u001B[0m\n\u001B[1;32m   3818\u001B[0m         \u001B[38;5;28;01mraise\u001B[39;00m InvalidIndexError(key)\n\u001B[0;32m-> 3819\u001B[0m     \u001B[38;5;28;01mraise\u001B[39;00m \u001B[38;5;167;01mKeyError\u001B[39;00m(key) \u001B[38;5;28;01mfrom\u001B[39;00m\u001B[38;5;250m \u001B[39m\u001B[38;5;21;01merr\u001B[39;00m\n\u001B[1;32m   3820\u001B[0m \u001B[38;5;28;01mexcept\u001B[39;00m \u001B[38;5;167;01mTypeError\u001B[39;00m:\n\u001B[1;32m   3821\u001B[0m     \u001B[38;5;66;03m# If we have a listlike key, _check_indexing_error will raise\u001B[39;00m\n\u001B[1;32m   3822\u001B[0m     \u001B[38;5;66;03m#  InvalidIndexError. Otherwise we fall through and re-raise\u001B[39;00m\n\u001B[1;32m   3823\u001B[0m     \u001B[38;5;66;03m#  the TypeError.\u001B[39;00m\n",
      "\u001B[0;31mKeyError\u001B[0m: Timestamp('2024-05-28 00:00:00')",
      "\nThe above exception was the direct cause of the following exception:\n",
      "\u001B[0;31mKeyError\u001B[0m                                  Traceback (most recent call last)",
      "Cell \u001B[0;32mIn[59], line 1\u001B[0m\n\u001B[0;32m----> 1\u001B[0m returns_today \u001B[38;5;241m=\u001B[39m \u001B[43mdaily_return_data\u001B[49m\u001B[38;5;241;43m.\u001B[39;49m\u001B[43mloc\u001B[49m\u001B[43m[\u001B[49m\u001B[38;5;124;43m'\u001B[39;49m\u001B[38;5;124;43m2024-05-28\u001B[39;49m\u001B[38;5;124;43m'\u001B[39;49m\u001B[43m]\u001B[49m\u001B[38;5;241m.\u001B[39mdropna()\n\u001B[1;32m      2\u001B[0m \u001B[38;5;28mprint\u001B[39m(returns_today\u001B[38;5;241m.\u001B[39mshape)\n\u001B[1;32m      3\u001B[0m \u001B[38;5;28mprint\u001B[39m(returns_today)\n",
      "File \u001B[0;32m~/Documents/UCLA/MASDS Thesis/PCA_Index/venv/lib/python3.9/site-packages/pandas/core/indexing.py:1191\u001B[0m, in \u001B[0;36m_LocationIndexer.__getitem__\u001B[0;34m(self, key)\u001B[0m\n\u001B[1;32m   1189\u001B[0m maybe_callable \u001B[38;5;241m=\u001B[39m com\u001B[38;5;241m.\u001B[39mapply_if_callable(key, \u001B[38;5;28mself\u001B[39m\u001B[38;5;241m.\u001B[39mobj)\n\u001B[1;32m   1190\u001B[0m maybe_callable \u001B[38;5;241m=\u001B[39m \u001B[38;5;28mself\u001B[39m\u001B[38;5;241m.\u001B[39m_check_deprecated_callable_usage(key, maybe_callable)\n\u001B[0;32m-> 1191\u001B[0m \u001B[38;5;28;01mreturn\u001B[39;00m \u001B[38;5;28;43mself\u001B[39;49m\u001B[38;5;241;43m.\u001B[39;49m\u001B[43m_getitem_axis\u001B[49m\u001B[43m(\u001B[49m\u001B[43mmaybe_callable\u001B[49m\u001B[43m,\u001B[49m\u001B[43m \u001B[49m\u001B[43maxis\u001B[49m\u001B[38;5;241;43m=\u001B[39;49m\u001B[43maxis\u001B[49m\u001B[43m)\u001B[49m\n",
      "File \u001B[0;32m~/Documents/UCLA/MASDS Thesis/PCA_Index/venv/lib/python3.9/site-packages/pandas/core/indexing.py:1431\u001B[0m, in \u001B[0;36m_LocIndexer._getitem_axis\u001B[0;34m(self, key, axis)\u001B[0m\n\u001B[1;32m   1429\u001B[0m \u001B[38;5;66;03m# fall thru to straight lookup\u001B[39;00m\n\u001B[1;32m   1430\u001B[0m \u001B[38;5;28mself\u001B[39m\u001B[38;5;241m.\u001B[39m_validate_key(key, axis)\n\u001B[0;32m-> 1431\u001B[0m \u001B[38;5;28;01mreturn\u001B[39;00m \u001B[38;5;28;43mself\u001B[39;49m\u001B[38;5;241;43m.\u001B[39;49m\u001B[43m_get_label\u001B[49m\u001B[43m(\u001B[49m\u001B[43mkey\u001B[49m\u001B[43m,\u001B[49m\u001B[43m \u001B[49m\u001B[43maxis\u001B[49m\u001B[38;5;241;43m=\u001B[39;49m\u001B[43maxis\u001B[49m\u001B[43m)\u001B[49m\n",
      "File \u001B[0;32m~/Documents/UCLA/MASDS Thesis/PCA_Index/venv/lib/python3.9/site-packages/pandas/core/indexing.py:1381\u001B[0m, in \u001B[0;36m_LocIndexer._get_label\u001B[0;34m(self, label, axis)\u001B[0m\n\u001B[1;32m   1379\u001B[0m \u001B[38;5;28;01mdef\u001B[39;00m\u001B[38;5;250m \u001B[39m\u001B[38;5;21m_get_label\u001B[39m(\u001B[38;5;28mself\u001B[39m, label, axis: AxisInt):\n\u001B[1;32m   1380\u001B[0m     \u001B[38;5;66;03m# GH#5567 this will fail if the label is not present in the axis.\u001B[39;00m\n\u001B[0;32m-> 1381\u001B[0m     \u001B[38;5;28;01mreturn\u001B[39;00m \u001B[38;5;28;43mself\u001B[39;49m\u001B[38;5;241;43m.\u001B[39;49m\u001B[43mobj\u001B[49m\u001B[38;5;241;43m.\u001B[39;49m\u001B[43mxs\u001B[49m\u001B[43m(\u001B[49m\u001B[43mlabel\u001B[49m\u001B[43m,\u001B[49m\u001B[43m \u001B[49m\u001B[43maxis\u001B[49m\u001B[38;5;241;43m=\u001B[39;49m\u001B[43maxis\u001B[49m\u001B[43m)\u001B[49m\n",
      "File \u001B[0;32m~/Documents/UCLA/MASDS Thesis/PCA_Index/venv/lib/python3.9/site-packages/pandas/core/generic.py:4320\u001B[0m, in \u001B[0;36mNDFrame.xs\u001B[0;34m(self, key, axis, level, drop_level)\u001B[0m\n\u001B[1;32m   4318\u001B[0m             new_index \u001B[38;5;241m=\u001B[39m index[loc]\n\u001B[1;32m   4319\u001B[0m \u001B[38;5;28;01melse\u001B[39;00m:\n\u001B[0;32m-> 4320\u001B[0m     loc \u001B[38;5;241m=\u001B[39m \u001B[43mindex\u001B[49m\u001B[38;5;241;43m.\u001B[39;49m\u001B[43mget_loc\u001B[49m\u001B[43m(\u001B[49m\u001B[43mkey\u001B[49m\u001B[43m)\u001B[49m\n\u001B[1;32m   4322\u001B[0m     \u001B[38;5;28;01mif\u001B[39;00m \u001B[38;5;28misinstance\u001B[39m(loc, np\u001B[38;5;241m.\u001B[39mndarray):\n\u001B[1;32m   4323\u001B[0m         \u001B[38;5;28;01mif\u001B[39;00m loc\u001B[38;5;241m.\u001B[39mdtype \u001B[38;5;241m==\u001B[39m np\u001B[38;5;241m.\u001B[39mbool_:\n",
      "File \u001B[0;32m~/Documents/UCLA/MASDS Thesis/PCA_Index/venv/lib/python3.9/site-packages/pandas/core/indexes/datetimes.py:632\u001B[0m, in \u001B[0;36mDatetimeIndex.get_loc\u001B[0;34m(self, key)\u001B[0m\n\u001B[1;32m    630\u001B[0m     \u001B[38;5;28;01mreturn\u001B[39;00m Index\u001B[38;5;241m.\u001B[39mget_loc(\u001B[38;5;28mself\u001B[39m, key)\n\u001B[1;32m    631\u001B[0m \u001B[38;5;28;01mexcept\u001B[39;00m \u001B[38;5;167;01mKeyError\u001B[39;00m \u001B[38;5;28;01mas\u001B[39;00m err:\n\u001B[0;32m--> 632\u001B[0m     \u001B[38;5;28;01mraise\u001B[39;00m \u001B[38;5;167;01mKeyError\u001B[39;00m(orig_key) \u001B[38;5;28;01mfrom\u001B[39;00m\u001B[38;5;250m \u001B[39m\u001B[38;5;21;01merr\u001B[39;00m\n",
      "\u001B[0;31mKeyError\u001B[0m: '2024-05-28'"
     ]
    }
   ],
   "source": [
    "returns_today = daily_return_data.loc['2024-05-28'].dropna()\n",
    "print(returns_today.shape)\n",
    "print(returns_today)"
   ],
   "metadata": {
    "collapsed": false,
    "ExecuteTime": {
     "end_time": "2025-06-28T07:55:25.381618Z",
     "start_time": "2025-06-28T07:55:25.212010Z"
    }
   },
   "id": "4dccb44cd82e3f47"
  },
  {
   "cell_type": "code",
   "execution_count": 40,
   "outputs": [
    {
     "data": {
      "text/plain": "bitcoin          1.366931e+12\nethereum         4.676140e+11\ntether           1.118769e+11\nbinancecoin      9.279450e+10\nsolana           7.629053e+10\n                     ...     \nmetfi-2          4.648668e+06\nedge             4.628990e+06\nundeads-games    4.538313e+06\nmessier          4.073071e+06\nweb3shot         2.060256e+06\nName: 2024-05-28 00:00:00, Length: 772, dtype: float64"
     },
     "execution_count": 40,
     "metadata": {},
     "output_type": "execute_result"
    }
   ],
   "source": [
    "sorted_market_caps = mcaps_today.sort_values(ascending=False)\n",
    "mcaps_today.sort_values(ascending=False)\n"
   ],
   "metadata": {
    "collapsed": false,
    "ExecuteTime": {
     "end_time": "2025-06-27T21:48:16.043458Z",
     "start_time": "2025-06-27T21:48:16.033336Z"
    }
   },
   "id": "e3e0e674730ce4e2"
  },
  {
   "cell_type": "code",
   "execution_count": 41,
   "outputs": [],
   "source": [
    "sorted_index = sorted_market_caps.index"
   ],
   "metadata": {
    "collapsed": false,
    "ExecuteTime": {
     "end_time": "2025-06-27T21:48:22.891878Z",
     "start_time": "2025-06-27T21:48:22.889221Z"
    }
   },
   "id": "b42b277436c0c356"
  },
  {
   "cell_type": "code",
   "execution_count": null,
   "outputs": [],
   "source": [
    "# --- 2. Calculate SMB (Small Minus Big) Factor ---\n",
    "# This loop calculates SMB for each day\n",
    "smb_list = []\n",
    "portfolio_size = 100 # Define the size of our portfolios\n",
    "\n",
    "for date in pca_index_data.index:\n",
    "    # Get market caps and returns for the current day, dropping NaNs\n",
    "    mcaps_today = market_cap_data.loc[date].dropna()\n",
    "    mcaps_today = mcaps_today[mcaps_today > 0]\n",
    "    \n",
    "    returns_today = daily_return_data.loc[date].dropna()\n",
    "    \n",
    "    sorted_market_caps = mcaps_today.sort_values(ascending=False)\n",
    "    \n",
    "    if len(mcaps_today) < 2*portfolio_size:\n",
    "        smb_list.append(0)\n",
    "        continue\n",
    "    \n",
    "    # --- Identify Portfolios ---\n",
    "    # Get the tickers for the top 100 (Big) and bottom 100 (Small)\n",
    "    big_portfolio_tickers = sorted_market_caps.head(portfolio_size).index\n",
    "    small_portfolio_tickers = sorted_market_caps.tail(portfolio_size).index\n",
    "    \n",
    "    # --- Get Returns for Each Portfolio ---\n",
    "    # Select the daily returns for the assets in each portfolio\n",
    "    returns_today = returns_today.loc[date]\n",
    "    big_portfolio_returns = returns_today.loc[big_portfolio_tickers]\n",
    "    small_portfolio_returns = returns_today.loc[small_portfolio_tickers]\n",
    "        \n",
    "    # --- Calculate SMB Value for the Day ---\n",
    "    # Calculate the equal-weighted average return for each portfolio\n",
    "    big_return = big_portfolio_returns.mean()\n",
    "    small_return = small_portfolio_returns.mean()\n",
    "    \n",
    "    # SMB is the return of the small portfolio minus the return of the big one\n",
    "    smb_value = small_return - big_return\n",
    "    smb_list.append(smb_value)\n",
    "\n",
    "smb = pd.Series(smb_list, index=pca_index_data.index)"
   ],
   "metadata": {
    "collapsed": false
   },
   "id": "9fcfcc3a39e75555"
  },
  {
   "cell_type": "code",
   "execution_count": null,
   "outputs": [],
   "source": [],
   "metadata": {
    "collapsed": false
   },
   "id": "2a2685b9dc65ba7b"
  },
  {
   "cell_type": "code",
   "execution_count": 55,
   "outputs": [
    {
     "name": "stdout",
     "output_type": "stream",
     "text": [
      "Date\n",
      "2024-12-31   -0.021107\n",
      "2025-01-01   -0.007247\n",
      "2025-01-02   -0.003675\n",
      "2025-01-03    0.016596\n",
      "2025-01-04    0.000955\n",
      "                ...   \n",
      "2025-06-21   -0.021128\n",
      "2025-06-22   -0.011429\n",
      "2025-06-23    0.046712\n",
      "2025-06-24    0.003774\n",
      "2025-06-25   -0.010946\n",
      "Length: 182, dtype: float64\n"
     ]
    },
    {
     "name": "stderr",
     "output_type": "stream",
     "text": [
      "/var/folders/17/h1jp6fwn2hgbggdw80lqlsz40000gn/T/ipykernel_28277/3941178319.py:5: FutureWarning: 'M' is deprecated and will be removed in a future version, please use 'ME' instead.\n",
      "  rebalance_dates = daily_return_data.resample('M').last().index\n"
     ]
    }
   ],
   "source": [
    "# --- 3. Calculate WML (Winners Minus Losers) Momentum Factor ---\n",
    "# This is computationally intensive. We rebalance monthly for performance.\n",
    "wml_list = []\n",
    "# Get month-end dates for rebalancing\n",
    "rebalance_dates = daily_return_data.resample('M').last().index\n",
    "\n",
    "# Using a 11-month lookback, holding for 1 month\n",
    "for i in range(12, len(rebalance_dates)):\n",
    "    # Define portfolio formation period\n",
    "    formation_date = rebalance_dates[i - 1]\n",
    "    start_lookback = rebalance_dates[i - 12]\n",
    "\n",
    "    # Calculate past returns (momentum)\n",
    "    past_returns = (daily_return_data.loc[start_lookback:formation_date] + 1).prod() - 1\n",
    "    # Clean any infinities that might arise from the calculation\n",
    "    past_returns = past_returns.replace([np.inf, -np.inf], np.nan).dropna()\n",
    "    \n",
    "    if len(past_returns) < 10:  # Need enough assets to form portfolios\n",
    "        continue\n",
    "\n",
    "    # Define quantile-based portfolios (e.g., top and bottom 30%)\n",
    "    q30 = past_returns.quantile(0.3)\n",
    "    q70 = past_returns.quantile(0.7)\n",
    "    losers = past_returns[past_returns <= q30].index\n",
    "    winners = past_returns[past_returns >= q70].index\n",
    "\n",
    "    # Calculate returns for the NEXT month\n",
    "    holding_period_start = formation_date\n",
    "    holding_period_end = rebalance_dates[i]\n",
    "\n",
    "    # This is your new line that drops columns with any NaN in the holding period\n",
    "    returns_next_month = daily_return_data.loc[holding_period_start:holding_period_end].dropna(axis=1, how='any')\n",
    "    \n",
    "    # ========================================================================\n",
    "    # --- FIX: Find the intersection of desired tickers and available tickers ---\n",
    "    # ========================================================================\n",
    "    safe_low_tickers = losers.intersection(returns_next_month.columns)\n",
    "    safe_high_tickers = winners.intersection(returns_next_month.columns)\n",
    "    \n",
    "    # Now, use these \"safe\" lists for the calculation\n",
    "    low_ret_returns = returns_next_month[safe_low_tickers].mean(axis=1)\n",
    "    high_ret_returns = returns_next_month[safe_high_tickers].mean(axis=1)\n",
    "    \n",
    "    monthly_hml = low_ret_returns - high_ret_returns\n",
    "    wml_list.append(monthly_hml)\n",
    "\n",
    "wml = pd.concat(wml_list)\n",
    "print(wml)"
   ],
   "metadata": {
    "collapsed": false,
    "ExecuteTime": {
     "end_time": "2025-06-27T23:12:58.768604Z",
     "start_time": "2025-06-27T23:12:58.725011Z"
    }
   },
   "id": "e925bae530538340"
  }
 ],
 "metadata": {
  "kernelspec": {
   "display_name": "Python 3",
   "language": "python",
   "name": "python3"
  },
  "language_info": {
   "codemirror_mode": {
    "name": "ipython",
    "version": 2
   },
   "file_extension": ".py",
   "mimetype": "text/x-python",
   "name": "python",
   "nbconvert_exporter": "python",
   "pygments_lexer": "ipython2",
   "version": "2.7.6"
  }
 },
 "nbformat": 4,
 "nbformat_minor": 5
}
